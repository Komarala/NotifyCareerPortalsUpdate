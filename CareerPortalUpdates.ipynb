{
 "cells": [
  {
   "cell_type": "code",
   "execution_count": null,
   "metadata": {
    "colab": {
     "base_uri": "https://localhost:8080/"
    },
    "executionInfo": {
     "elapsed": 3418,
     "status": "ok",
     "timestamp": 1743274137339,
     "user": {
      "displayName": "Hemanth Yadav",
      "userId": "09895463632956955901"
     },
     "user_tz": -60
    },
    "id": "B4fhoQYYOaf-",
    "outputId": "6cf259a6-c94c-472b-f527-177d786e39fc"
   },
   "outputs": [],
   "source": [
    "!pip install requests beautifulsoup4 selenium pushbullet.py schedule webdriver_manager openpyxml"
   ]
  },
  {
   "cell_type": "code",
   "execution_count": null,
   "metadata": {
    "executionInfo": {
     "elapsed": 312,
     "status": "ok",
     "timestamp": 1743276088316,
     "user": {
      "displayName": "Hemanth Yadav",
      "userId": "09895463632956955901"
     },
     "user_tz": -60
    },
    "id": "T-rLremkM-w5"
   },
   "outputs": [],
   "source": [
    "import requests\n",
    "from bs4 import BeautifulSoup\n",
    "import hashlib\n",
    "import time\n",
    "import schedule\n",
    "import pandas as pd\n",
    "from pushbullet import Pushbullet\n",
    "from selenium import webdriver\n",
    "from selenium.webdriver.chrome.service import Service\n",
    "from selenium.webdriver.common.by import By\n",
    "from selenium.webdriver.chrome.options import Options\n",
    "from webdriver_manager.chrome import ChromeDriverManager\n",
    "\n",
    "# Pushbullet API key (sign up at https://www.pushbullet.com/ to get the key)\n",
    "API_KEY = ''\n",
    "\n",
    "# Initialize Pushbullet instance\n",
    "pb = Pushbullet(API_KEY)"
   ]
  },
  {
   "cell_type": "code",
   "execution_count": null,
   "metadata": {},
   "outputs": [],
   "source": [
    "classlist =  ['job-listing',\n",
    "            'jobadentry-category',#TUC dynamic page\n",
    "            'relative grid w-full justify-between gap-4 overflow-hidden sm:grid-cols-[8fr_1fr]', #BOSCH\n",
    "            'job-card-container list  ',#SIEMENS\n",
    "            'style_ListResultItem__Wsknq', #Tesla\n",
    "            'listItem jobListItem', #Audi\n",
    "            'iav-search-list-item uk-width-1-1', #IAV\n",
    "            'mod_newslist block', #Intenta\n",
    "            'flex border-b-4 border-[hsl(0,_0%,_94%)] pb-7 pt-8 justify-between flex-wrap lg:flex-nowrap gap-6', #fdTech\n",
    "            'mjp-result__card wb-grid-col hydrated', #Mercedes\n",
    "            'column-jobad-title break-word', #Porsche dynamic page\n",
    "            'data-row', #fraunhofer\n",
    "            'd-flex flex-column flex-lg-row JobSearchResults_filter-results-details__xBkVx', #Akkodis\n",
    "            'listTileContainer-i7p-6 ', #Hoermann\n",
    "            'sfjob', #EDAG\n",
    "            'grp-jobfinder__wrapper' #BMW\n",
    "            ] # Example selector"
   ]
  },
  {
   "cell_type": "code",
   "execution_count": null,
   "metadata": {
    "id": "k4L3_G6kN4_-"
   },
   "outputs": [],
   "source": [
    "# Function to get the current page content for static pages\n",
    "def get_static_page_content(url, webpage_class):\n",
    "    response = requests.get(url)\n",
    "    soup = BeautifulSoup(response.text, 'html.parser')\n",
    "    # Modify the selector according to the HTML structure of the page\n",
    "    job_listings = soup.find_all('div', class_=webpage_class)  # Example selector\n",
    "    job_text = ''.join([str(job) for job in job_listings])\n",
    "    return job_text"
   ]
  },
  {
   "cell_type": "code",
   "execution_count": null,
   "metadata": {
    "id": "PxxC8woaN6pC"
   },
   "outputs": [],
   "source": [
    "# Function to get the current page content for dynamic pages (using Selenium)\n",
    "def get_dynamic_page_content(url, webpage_class):\n",
    "    chrome_options = Options()\n",
    "    chrome_options.add_argument(\"--headless\")  # Run in headless mode (no browser UI)\n",
    "    driver = webdriver.Chrome(service=Service(ChromeDriverManager().install()), options=chrome_options)\n",
    "    driver.get(url)\n",
    "    time.sleep(5)  # Wait for JavaScript to load content (adjust as needed)\n",
    "    \n",
    "    # Modify the selector according to the HTML structure of the page\n",
    "    job_listings = driver.find_elements(By.CLASS_NAME, webpage_class)  # Example selector\n",
    "    job_text = ''.join([listing.text for listing in job_listings])\n",
    "    driver.quit()\n",
    "    return job_text"
   ]
  },
  {
   "cell_type": "code",
   "execution_count": null,
   "metadata": {
    "id": "fOQQTDjoOCEA"
   },
   "outputs": [],
   "source": [
    "# Function to send a notification using Pushbullet\n",
    "def send_notification(message):\n",
    "    pb.push_note(\"Careers Portal Update\", message)\n",
    "\n",
    "# Function to compare and detect changes\n",
    "def check_for_updates(url, company, webpage_class):\n",
    "    update = ''\n",
    "    # Try to get content using the static method first\n",
    "    try:\n",
    "        current_content = get_static_page_content(url, webpage_class)\n",
    "    except Exception as e:\n",
    "        # If static content method fails, fall back to dynamic method (Selenium)\n",
    "        current_content = get_dynamic_page_content(url, webpage_class)\n",
    "        update = e\n",
    "\n",
    "    # Load the previously stored content (if any)\n",
    "    try:\n",
    "        with open('./hash/'+company+'last_content_hash.txt', 'r') as file:\n",
    "            last_content_hash = file.read().strip()\n",
    "    except FileNotFoundError:\n",
    "        last_content_hash = ''\n",
    "\n",
    "    # Generate the hash of the current content\n",
    "    current_hash = hashlib.md5(current_content.encode()).hexdigest()\n",
    "\n",
    "    # Compare the hash of the current content with the previous one\n",
    "    if current_hash != last_content_hash:\n",
    "        update = 'updated'\n",
    "        send_notification(url+\"has been updated!\")\n",
    "\n",
    "        # Save the new hash\n",
    "        with open('./hash/'+company+'last_content_hash.txt', 'w') as file:\n",
    "            file.write(current_hash)\n",
    "    else:\n",
    "        update = 'no update'\n",
    "    return update"
   ]
  },
  {
   "cell_type": "code",
   "execution_count": null,
   "metadata": {},
   "outputs": [],
   "source": [
    "# Step 1: Read the Excel file into a DataFrame\n",
    "try:\n",
    "    df = pd.read_excel('list.xlsx', sheet_name='Companies_list')\n",
    "except Exception as e:\n",
    "    print(f\"Error reading Excel file: {e}\")\n",
    "    exit(1)\n",
    "\n",
    "# Step 2: Iterate over each row and calculate the new value for the adjacent cell\n",
    "for idx, row in df.iterrows():\n",
    "    try:\n",
    "        # Read the value from the 'InputColumn' (assuming numeric data)\n",
    "        input_url = row['url']\n",
    "        company = row['Company_name']\n",
    "        webpage_class = row['class']\n",
    "\n",
    "        # Call the external function to calculate the new value\n",
    "        calculated_value = check_for_updates(str(input_url), company, str(webpage_class))\n",
    "\n",
    "        # Write the calculated value to the adjacent 'CalculatedColumn'\n",
    "        df.at[idx, 'update'] = calculated_value\n",
    "\n",
    "    except Exception as e:\n",
    "        print(f\"Error processing row {idx}: {e}\")\n",
    "        # You can either set a default value or leave it empty for rows where calculation fails\n",
    "        df.at[idx, 'update'] = str(e)\n",
    "\n",
    "# Step 3: Save the updated DataFrame back to the Excel file\n",
    "try:\n",
    "    df.to_excel('list.xlsx', sheet_name='Companies_list', index=False)\n",
    "    print(\"File updated successfully.\")\n",
    "except Exception as e:\n",
    "    print(f\"Error saving Excel file: {e}\")"
   ]
  }
 ],
 "metadata": {
  "colab": {
   "authorship_tag": "ABX9TyNBQBT2aITc/oRl0woobZX1",
   "mount_file_id": "1I-6B1d6O8Onqfy8KszFGNE7KPGbAGawf",
   "provenance": []
  },
  "kernelspec": {
   "display_name": "Python 3",
   "name": "python3"
  },
  "language_info": {
   "name": "python"
  }
 },
 "nbformat": 4,
 "nbformat_minor": 0
}
